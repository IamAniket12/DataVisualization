{
 "cells": [
  {
   "cell_type": "markdown",
   "metadata": {},
   "source": [
    "# Dataset con:-\n",
    "#id : station identification code\n",
    "#date : date in YYYY-MM-DD format (e.g. 2012-01-24 = January 24, 2012)\n",
    "#element : indicator of element type\n",
    "#TMAX : Maximum temperature (tenths of degrees C)\n",
    "#TMIN : Minimum temperature (tenths of degrees C)\n",
    "#value : data value for element (tenths of degrees C)\n"
   ]
  },
  {
   "cell_type": "code",
   "execution_count": 1,
   "metadata": {},
   "outputs": [
    {
     "name": "stdout",
     "output_type": "stream",
     "text": [
      "            ID        Date Element  Data_Value\n",
      "0  USW00094889  2014-11-12    TMAX          22\n",
      "1  USC00208972  2009-04-29    TMIN          56\n",
      "2  USC00200032  2008-05-26    TMAX         278\n",
      "3  USC00205563  2005-11-11    TMAX         139\n",
      "4  USC00200230  2014-02-27    TMAX        -106\n"
     ]
    }
   ],
   "source": [
    "import matplotlib.pyplot as plt\n",
    "import numpy as np\n",
    "import pandas as pd\n",
    "df = pd.read_csv('Temp_data.csv')\n",
    "print(df.head())"
   ]
  },
  {
   "cell_type": "markdown",
   "metadata": {},
   "source": [
    "# Tasks:-\n",
    "##write some python code which returns a line graph of the record high and record low temperatures by day of the year over the period 2005-2014. The area between the record high and record low temperatures for each day should be shaded.\n",
    "Overlay a scatter of the 2015 data for any points (highs and lows) for which the ten year record (2005-2014) record high or record low was broken in 2015.\n",
    "\n",
    "##Watch out for leap days (i.e. February 29th), it is reasonable to remove these points from the dataset for the purpose of this visualization.\n",
    "\n",
    "\n"
   ]
  },
  {
   "cell_type": "code",
   "execution_count": 2,
   "metadata": {},
   "outputs": [
    {
     "name": "stdout",
     "output_type": "stream",
     "text": [
      "                ID        Date Element  Data_Value  Year Month_day\n",
      "84041  USW00094889  2015-12-29    TMAX          50  2015     12-29\n",
      "50750  USW00094889  2015-12-30    TMAX           6  2015     12-30\n",
      "50751  USW00094889  2015-12-30    TMIN          -5  2015     12-30\n",
      "61120  USW00094889  2015-12-31    TMAX          -5  2015     12-31\n",
      "61135  USW00094889  2015-12-31    TMIN         -21  2015     12-31\n"
     ]
    }
   ],
   "source": [
    "df  = df.sort_values(['ID','Date'])\n",
    "##Pre process the data \n",
    "df['Year'] = df['Date'].apply(lambda x:x[:4]) \n",
    "df['Month_day'] = df['Date'].apply(lambda x: x[5:])  \n",
    "df = df[df['Month_day']!='02-29']  ##removing leap year\n",
    "print(df.tail())"
   ]
  },
  {
   "cell_type": "markdown",
   "metadata": {},
   "source": [
    "# Select min and max temp value for all date's except 2015"
   ]
  },
  {
   "cell_type": "code",
   "execution_count": 3,
   "metadata": {},
   "outputs": [
    {
     "name": "stdout",
     "output_type": "stream",
     "text": [
      "                ID        Date Element  Data_Value  Year Month_day\n",
      "29072  USW00094889  2014-12-27    TMIN          -5  2014     12-27\n",
      "58292  USW00094889  2014-12-28    TMIN         -60  2014     12-28\n",
      "56612  USW00094889  2014-12-29    TMIN        -110  2014     12-29\n",
      "60944  USW00094889  2014-12-30    TMIN        -105  2014     12-30\n",
      "45681  USW00094889  2014-12-31    TMIN        -138  2014     12-31\n"
     ]
    }
   ],
   "source": [
    "df_min = df[(df['Element']=='TMIN') & (df['Year']!='2015')]\n",
    "\n",
    "##select max temp from all date's except 2015 year\n",
    "\n",
    "df_max = df[(df['Element']=='TMAX')&(df['Year']!='2015')]\n",
    "print(df_min.tail())"
   ]
  },
  {
   "cell_type": "markdown",
   "metadata": {},
   "source": [
    "# Now for all same date's with diffrent year select min and max value\n",
    "like 1 jan comes 14time's in between 20"
   ]
  },
  {
   "cell_type": "code",
   "execution_count": 6,
   "metadata": {},
   "outputs": [
    {
     "name": "stdout",
     "output_type": "stream",
     "text": [
      "           temp_mini\n",
      "Month_day           \n",
      "01-01           -160\n",
      "01-02           -267\n",
      "01-03           -267\n",
      "01-04           -261\n",
      "01-05           -150\n",
      "           temp_maxi\n",
      "Month_day           \n",
      "01-01            156\n",
      "01-02            139\n",
      "01-03            133\n",
      "01-04            106\n",
      "01-05            128\n"
     ]
    },
    {
     "name": "stderr",
     "output_type": "stream",
     "text": [
      "C:\\Users\\IamChamp\\Anaconda3\\lib\\site-packages\\ipykernel_launcher.py:3: FutureWarning: using a dict on a Series for aggregation\n",
      "is deprecated and will be removed in a future version\n",
      "  This is separate from the ipykernel package so we can avoid doing imports until\n",
      "C:\\Users\\IamChamp\\Anaconda3\\lib\\site-packages\\ipykernel_launcher.py:4: FutureWarning: using a dict on a Series for aggregation\n",
      "is deprecated and will be removed in a future version\n",
      "  after removing the cwd from sys.path.\n"
     ]
    }
   ],
   "source": [
    "##Taking the min and max value like here we have 14 year record's for each single date so we take mean for all 14 values\n",
    "import numpy as np\n",
    "temp_min = df_min.groupby('Month_day')['Data_Value'].agg({'temp_mini':'min'})\n",
    "temp_max = df_max.groupby('Month_day')['Data_Value'].agg({'temp_maxi':'max'})\n",
    "print(temp_min.head())\n",
    "print(temp_max.head())"
   ]
  },
  {
   "cell_type": "markdown",
   "metadata": {},
   "source": [
    "# Now Work On 2015 Data"
   ]
  },
  {
   "cell_type": "code",
   "execution_count": 7,
   "metadata": {},
   "outputs": [
    {
     "name": "stdout",
     "output_type": "stream",
     "text": [
      "                ID        Date Element  Data_Value  Year Month_day\n",
      "44224  USC00200032  2015-01-01    TMIN         -94  2015     01-01\n",
      "48658  USC00200032  2015-01-02    TMIN         -33  2015     01-02\n",
      "14851  USC00200032  2015-01-03    TMIN         -39  2015     01-03\n",
      "10461  USC00200032  2015-01-04    TMIN         -67  2015     01-04\n",
      "2337   USC00200032  2015-01-05    TMIN        -144  2015     01-05\n"
     ]
    }
   ],
   "source": [
    "temp_15_min = df[(df['Element']=='TMIN') & (df['Year']=='2015')]\n",
    "temp_15_max = df[(df['Element']=='TMAX')& (df['Year']=='2015')]\n",
    "print(temp_15_min.head())"
   ]
  },
  {
   "cell_type": "markdown",
   "metadata": {},
   "source": [
    "# Perform Min And  Max Function "
   ]
  },
  {
   "cell_type": "code",
   "execution_count": 9,
   "metadata": {},
   "outputs": [
    {
     "name": "stdout",
     "output_type": "stream",
     "text": [
      "           temp_mini_15\n",
      "Month_day              \n",
      "01-01              -133\n",
      "01-02              -122\n",
      "01-03               -67\n",
      "01-04               -88\n",
      "01-05              -155\n",
      "           temp_maxi_15\n",
      "Month_day              \n",
      "01-01                11\n",
      "01-02                39\n",
      "01-03                39\n",
      "01-04                44\n",
      "01-05                28\n"
     ]
    },
    {
     "name": "stderr",
     "output_type": "stream",
     "text": [
      "C:\\Users\\IamChamp\\Anaconda3\\lib\\site-packages\\ipykernel_launcher.py:1: FutureWarning: using a dict on a Series for aggregation\n",
      "is deprecated and will be removed in a future version\n",
      "  \"\"\"Entry point for launching an IPython kernel.\n",
      "C:\\Users\\IamChamp\\Anaconda3\\lib\\site-packages\\ipykernel_launcher.py:2: FutureWarning: using a dict on a Series for aggregation\n",
      "is deprecated and will be removed in a future version\n",
      "  \n"
     ]
    }
   ],
   "source": [
    "temp_min_15 = temp_15_min.groupby('Month_day')['Data_Value'].agg({'temp_mini_15':'min'})\n",
    "temp_max_15 = temp_15_max.groupby('Month_day')['Data_Value'].agg({'temp_maxi_15':'max'})\n",
    "print(temp_min_15.head())\n",
    "print(temp_max_15.head())"
   ]
  },
  {
   "cell_type": "markdown",
   "metadata": {},
   "source": [
    "# Reset Index"
   ]
  },
  {
   "cell_type": "code",
   "execution_count": 10,
   "metadata": {},
   "outputs": [],
   "source": [
    "temp_min = temp_min.reset_index()\n",
    "temp_max = temp_max.reset_index()\n",
    "temp_min_15 = temp_min_15.reset_index()\n",
    "temp_max_15 = temp_max_15.reset_index()"
   ]
  },
  {
   "cell_type": "markdown",
   "metadata": {},
   "source": [
    "# Get Broken Min And Max Point"
   ]
  },
  {
   "cell_type": "code",
   "execution_count": 12,
   "metadata": {},
   "outputs": [
    {
     "name": "stdout",
     "output_type": "stream",
     "text": [
      "[4, 10, 33, 44, 45, 46, 47, 49, 50, 51, 53, 54, 55, 56, 57, 58, 63, 64, 65, 86, 87, 88, 113, 114, 139, 183, 239, 289, 290, 291, 292, 313]\n",
      "[39, 106, 126, 127, 130, 137, 207, 209, 230, 249, 250, 258, 259, 260, 270, 271, 292, 305, 306, 307, 308, 309, 321, 340, 341, 342, 343, 344, 345, 346, 347, 348, 349, 356, 357, 358, 359]\n"
     ]
    }
   ],
   "source": [
    "broken_min = (temp_min_15[temp_min_15['temp_mini_15'] < temp_min['temp_mini']]).index.tolist()\n",
    "broken_max = (temp_max_15[temp_max_15['temp_maxi_15'] > temp_max['temp_maxi']]).index.tolist()\n",
    "print(broken_min)\n",
    "print(broken_max)"
   ]
  },
  {
   "cell_type": "markdown",
   "metadata": {},
   "source": [
    "# Plotting figure"
   ]
  },
  {
   "cell_type": "code",
   "execution_count": 15,
   "metadata": {},
   "outputs": [
    {
     "data": {
      "image/png": "[encoded data removed]",
      "text/plain": [
       "<matplotlib.figure.Figure at 0x4c7f2fec50>"
      ]
     },
     "metadata": {},
     "output_type": "display_data"
    }
   ],
   "source": [
    "plt.figure()\n",
    "\n",
    "plt.plot(temp_min['temp_mini'], 'y', alpha = 0.75, label = 'Record Low')\n",
    "plt.plot(temp_max['temp_maxi'], 'r', alpha = 0.5, label = 'Record High')\n",
    "\n",
    "\n",
    "plt.scatter(broken_min, temp_min_15['temp_mini_15'].iloc[broken_min], s = 1, c = 'k', label = 'Broken Min')\n",
    "plt.scatter(broken_max, temp_max_15['temp_maxi_15'].iloc[broken_max], s = 1, c = 'b', label = 'Broken Max')\n",
    "\n",
    "plt.xlabel('Month')\n",
    "plt.ylabel('Temperature (Tenths of Degrees C)')\n",
    "plt.title('Extreme Temperatures of 2015 against 2005-2014\\n Beijing, China')\n",
    "\n",
    "plt.gca().fill_between(range(len(temp_min)), \n",
    "                       temp_min['temp_mini'], temp_max['temp_maxi'], \n",
    "                       facecolor='grey', \n",
    "                       alpha=0.2)\n",
    "\n",
    "plt.gca().axis([-5, 370, -400, 400])\n",
    "plt.legend(frameon = False)\n",
    "\n",
    "plt.gca().spines['top'].set_visible(False)\n",
    "plt.gca().spines['right'].set_visible(False)\n",
    "\n",
    "a = [0, 30, 60, 90, 120, 150, 180, 210, 240, 270, 300, 330]\n",
    "b = [i+15 for i in a]\n",
    "\n",
    "Month_name = ['Jan', 'Feb', 'Mar', 'Apr', 'May', 'Jun', 'Jul', 'Aug', 'Sep', 'Oct', 'Nov', 'Dec']\n",
    "plt.xticks(b, Month_name)\n",
    "plt.show()"
   ]
  },
  {
   "cell_type": "code",
   "execution_count": null,
   "metadata": {},
   "outputs": [],
   "source": []
  }
 ],
 "metadata": {
  "kernelspec": {
   "display_name": "Python 3",
   "language": "python",
   "name": "python3"
  },
  "language_info": {
   "codemirror_mode": {
    "name": "ipython",
    "version": 3
   },
   "file_extension": ".py",
   "mimetype": "text/x-python",
   "name": "python",
   "nbconvert_exporter": "python",
   "pygments_lexer": "ipython3",
   "version": "3.6.4"
  }
 },
 "nbformat": 4,
 "nbformat_minor": 2
}
